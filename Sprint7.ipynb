{
 "cells": [
  {
   "cell_type": "code",
   "execution_count": 57,
   "id": "317aacbd-bd5d-46f5-bbb9-066e96b33d14",
   "metadata": {},
   "outputs": [
    {
     "name": "stdin",
     "output_type": "stream",
     "text": [
      "Cuál es tu peso en Kg?:  66\n",
      "Cuál es tu altura en metros?:  1.68\n"
     ]
    },
    {
     "name": "stdout",
     "output_type": "stream",
     "text": [
      "Tienes un IMC = 23.38 , tu peso es normal.\n"
     ]
    }
   ],
   "source": [
    "# Nivel 1 - Exercici 1\n",
    "# Calculadora de l'índex de massa corporal\n",
    "Peso= float(input(\"Cuál es tu peso en Kg?: \"))\n",
    "Altura= float(input(\"Cuál es tu altura en metros?: \"))\n",
    "\n",
    "IMC = round(Peso / (Altura**2), 2)\n",
    "\n",
    "if IMC > 30:\n",
    "    print(\"Tienes un IMC =\",IMC,\", tienes obesidad.\")\n",
    "elif IMC >= 25:\n",
    "    print(\"Tienes un IMC =\",IMC,\", tienes sobrepeso.\")\n",
    "elif IMC >= 18.5:\n",
    "    print(\"Tienes un IMC =\",IMC,\", tu peso es normal.\")\n",
    "else:\n",
    "    print(\"Tienes un IMC =\",IMC,\", tienes bajo peso.\")\n"
   ]
  },
  {
   "cell_type": "code",
   "execution_count": 67,
   "id": "2196643f-b088-4758-ba26-f6b9ef762dd9",
   "metadata": {},
   "outputs": [
    {
     "name": "stdin",
     "output_type": "stream",
     "text": [
      "Temperatura en Celcius (ºC):  23\n"
     ]
    },
    {
     "name": "stdout",
     "output_type": "stream",
     "text": [
      "23.0 ºC equivalen a 73.4 ºF y a 296.15 K\n"
     ]
    }
   ],
   "source": [
    "# Nivel 1 - Exercici 2\n",
    "#Conversor de Celcius a Farenheit\n",
    "Celcius=float(input(\"Temperatura en Celcius (ºC): \"))\n",
    "Farenheit= (Celcius*9/5) + 32\n",
    "Kelvin= Celcius + 273.15\n",
    "print(Celcius, \"ºC equivalen a\", Farenheit, \"ºF y a\", Kelvin, \"K\")\n"
   ]
  },
  {
   "cell_type": "code",
   "execution_count": 93,
   "id": "9a27cb7f-f555-450d-bba2-ee6314a7ee00",
   "metadata": {
    "jupyter": {
     "source_hidden": true
    }
   },
   "outputs": [
    {
     "name": "stdin",
     "output_type": "stream",
     "text": [
      "Escribe tu texto:  \n"
     ]
    }
   ],
   "source": [
    "# Nivel 1 - Exercici 3\n",
    "#Comptador de paraules d'un text.Escriu una funció que donat un text, mostri les vegades que apareix cada paraula.\n",
    "texto= input(\"Escribe tu texto: \")\n",
    "palabras = texto.split()\n",
    "contador= palabras.count(palabra)\n",
    "for palabra in palabras:\n",
    "    print(palabra, contador)"
   ]
  },
  {
   "cell_type": "code",
   "execution_count": 25,
   "id": "420c4f2c-b083-4f6a-81ea-ba192b692310",
   "metadata": {},
   "outputs": [
    {
     "data": {
      "text/plain": [
       "{1: 'a', 2: 'b', 3: 'c'}"
      ]
     },
     "execution_count": 25,
     "metadata": {},
     "output_type": "execute_result"
    }
   ],
   "source": [
    "# Nivel 1 - Exercici 4\n",
    "#Diccionari invers.\n",
    "dictionary= {\"a\":1, \"b\": 2, \"c\":3}\n",
    "\n",
    "def reverse_dictionary(dictionary):\n",
    "    keys= list(dictionary.keys())\n",
    "    values= list(dictionary.values())\n",
    "\n",
    "    for value in values:\n",
    "        if values.count(value) > 1:\n",
    "            print(\"Error: Multiple keys for one value\")\n",
    "            return\n",
    "\n",
    "    r_dictionary=dict()\n",
    "    for key,value in zip(keys,values):\n",
    "        r_dictionary.update({value:key})\n",
    "    return r_dictionary\n",
    "        \n",
    "reverse_dictionary(dictionary)"
   ]
  },
  {
   "cell_type": "code",
   "execution_count": 9,
   "id": "4f7d9449-51e1-4595-9e42-9ea313dd076c",
   "metadata": {},
   "outputs": [
    {
     "data": {
      "text/plain": [
       "{1: ['a', 'd'], 3: ['b', 'c'], 2: 'e'}"
      ]
     },
     "execution_count": 9,
     "metadata": {},
     "output_type": "execute_result"
    }
   ],
   "source": [
    "# Nivell 2 - Exercici 1\n",
    "#Diccionari invers amb duplicats\n",
    "dictionary= {\"a\":1, \"b\": 3, \"c\":3, \"d\":1, \"e\":2}\n",
    "\n",
    "def reverse_dictionary(dictionary):\n",
    "    keys= list(dictionary.keys())\n",
    "    values= list(dictionary.values())\n",
    "    r_dictionary=dict()\n",
    "    for key,value in zip(keys,values):\n",
    "        if values.count(value) > 1:\n",
    "            r_dictionary.setdefault(value,[]).append(key) \n",
    "        else:       \n",
    "            r_dictionary.update({value:key})\n",
    "    return r_dictionary\n",
    "            \n",
    "reverse_dictionary(dictionary)\n"
   ]
  },
  {
   "cell_type": "code",
   "execution_count": 65,
   "id": "b05974e9-42a8-466c-b866-6db6e150ce55",
   "metadata": {},
   "outputs": [
    {
     "data": {
      "text/plain": [
       "([1.3, 10000000000.0, 2.0, 1.0, 1.4, 1.0, 2.0, 3.0, 3.4],\n",
       " ['one', 'seven', '3-1/2', 'not-a-number'])"
      ]
     },
     "execution_count": 65,
     "metadata": {},
     "output_type": "execute_result"
    }
   ],
   "source": [
    "# Nivell 2 - Exercici 2\n",
    "#Conversió de tipus de dades\n",
    "\n",
    "lista=[ '1.3', 'one' , '1e10' , 'seven', '3-1/2', ('2',1,1.4,'not-a-number'), [1,2,'3','3.4']]\n",
    "def conversion(lista):\n",
    "    lista_aplanada =[]\n",
    "    for i in range(len(lista)):\n",
    "        if isinstance(lista[i], (list, tuple)):\n",
    "            for e in lista[i]:\n",
    "                lista_aplanada.append(e)\n",
    "        else:\n",
    "            lista_aplanada.append(lista[i])\n",
    "    lista_flotantes=[]\n",
    "    lista_no_flotantes=[]\n",
    "    for i in range(len(lista_aplanada)):\n",
    "        try:\n",
    "            flotante=float(lista_aplanada[i])\n",
    "            lista_flotantes.append(flotante)\n",
    "        except (ValueError,TypeError):\n",
    "            lista_no_flotantes.append(lista_aplanada[i])\n",
    "    return lista_flotantes, lista_no_flotantes\n",
    "    \n",
    "conversion(lista)"
   ]
  },
  {
   "cell_type": "code",
   "execution_count": 186,
   "id": "60cdae94-e108-4214-8caf-8d9ae82e8318",
   "metadata": {},
   "outputs": [
    {
     "data": {
      "text/plain": [
       "{'a': {'a': 3,\n",
       "  'agua': 1,\n",
       "  'al': 2,\n",
       "  'alba': 4,\n",
       "  'alcobas': 1,\n",
       "  'alimenta': 1,\n",
       "  'alma': 1,\n",
       "  'amarga': 1,\n",
       "  'azucena': 1},\n",
       " 'b': {'baco': 1,\n",
       "  'banquete': 1,\n",
       "  'bebe': 1,\n",
       "  'blanca': 3,\n",
       "  'boca': 1,\n",
       "  'bosques': 1,\n",
       "  'buen': 1},\n",
       " 'c': {'cabañas': 1,\n",
       "  'carnes': 2,\n",
       "  'casta': 3,\n",
       "  'cerrada': 1,\n",
       "  'con': 4,\n",
       "  'conservas': 1,\n",
       "  'copas': 1,\n",
       "  'corola': 1,\n",
       "  'corriste': 1,\n",
       "  'cuando': 2,\n",
       "  'cubierto': 1,\n",
       "  'cuerpo': 1,\n",
       "  'cuáles': 1},\n",
       " 'd': {'de': 8, 'dejaste': 1, 'del': 1, 'diga': 1, 'dios': 2, 'duerme': 1},\n",
       " 'e': {'el': 4,\n",
       "  'ellas': 1,\n",
       "  'en': 4,\n",
       "  'engaño': 1,\n",
       "  'enredada': 1,\n",
       "  'entonces': 1,\n",
       "  'escarcha': 1,\n",
       "  'espumas': 1,\n",
       "  'esqueleto': 1,\n",
       "  'estrago': 1},\n",
       " 'f': {'festejando': 1, 'filtrado': 1, 'frutos': 1},\n",
       " 'h': {'habla': 1,\n",
       "  'hacia': 1,\n",
       "  'haya': 1,\n",
       "  'hayas': 1,\n",
       "  'hermana': 1,\n",
       "  'hombre': 1,\n",
       "  'hubiste': 1,\n",
       "  'huye': 1},\n",
       " 'i': {'intacto': 1},\n",
       " 'j': {'jardines': 1},\n",
       " 'l': {'la': 3,\n",
       "  'labios': 1,\n",
       "  'las': 7,\n",
       "  'lo': 2,\n",
       "  'los': 4,\n",
       "  'luna': 1,\n",
       "  'lévate': 1,\n",
       "  'límpiate': 1},\n",
       " 'm': {'mano': 1,\n",
       "  'manos': 1,\n",
       "  'margarita': 1,\n",
       "  'me': 9,\n",
       "  'mi': 1,\n",
       "  'mieles': 1,\n",
       "  'milagros': 1,\n",
       "  'mojada': 1,\n",
       "  'montaña': 1,\n",
       "  'morados': 1},\n",
       " 'n': {'negros': 1, 'ni': 2, 'no': 1, 'nácar': 1, 'nívea': 2},\n",
       " 'p': {'perdone': 2,\n",
       "  'perfume': 1,\n",
       "  'por': 2,\n",
       "  'pretendes': 3,\n",
       "  'preténdeme': 3,\n",
       "  'puesto': 1,\n",
       "  'pájaros': 1,\n",
       "  'pámpanos': 1},\n",
       " 'q': {'que': 6, 'quedó': 1, 'quieres': 6},\n",
       " 'r': {'rayo': 1, 'raíz': 1, 'renueva': 1, 'rocas': 1, 'rojo': 1},\n",
       " 's': {'salitre': 1, 'se': 2, 'sea': 1, 'sean': 1, 'sobre': 2, 'sé': 1},\n",
       " 't': {'te': 3,\n",
       "  'tejidos': 1,\n",
       "  'tenue': 1,\n",
       "  'tierra': 1,\n",
       "  'toca': 1,\n",
       "  'todas': 2,\n",
       "  'todavía': 1,\n",
       "  'tornadas': 1,\n",
       "  'tú': 8},\n",
       " 'u': {'un': 1, 'una': 1},\n",
       " 'v': {'vestido': 1, 'vete': 1, 'vive': 1},\n",
       " 'y': {'y': 5},\n",
       " '¡': {'¡me': 1}}"
      ]
     },
     "execution_count": 186,
     "metadata": {},
     "output_type": "execute_result"
    }
   ],
   "source": [
    "# Nivell 3 - Exercici 1\n",
    "# Comptador i endreçador de paraules d'un text.\n",
    "\n",
    "#El client va quedar content amb el comptador de paraules, però ara vol llegir arxius TXT i que calculi la freqüència de \n",
    "#cada paraula ordenades dins de les entrades habituals del diccionari segons la lletra amb la qual comencen, és a dir, \n",
    "#les claus han d'anar de la A a la Z i dins de la A hem d'anar de la A la Z. \n",
    "\n",
    "import string\n",
    "with open('tu_me_quieres_blanca.txt', 'r', encoding='utf-8') as archivo:\n",
    "    texto = archivo.read()\n",
    "texto_sin_puntuacion = texto.translate(str.maketrans('', '', string.punctuation))\n",
    "palabras = texto_sin_puntuacion.lower().split()\n",
    "def contador_palabras(palabras):\n",
    "    diccionarios = {}\n",
    "    for palabra in palabras:\n",
    "        letra= palabra[0]\n",
    "        contador= palabras.count(palabra)\n",
    "        if letra not in diccionarios:\n",
    "            diccionarios[letra] = {}\n",
    "        diccionarios[letra][palabra] = contador\n",
    "    for letra in diccionarios:\n",
    "        diccionarios[letra] = dict(sorted(diccionarios[letra].items()))\n",
    "    diccionarios_ordenado = dict(sorted(diccionarios.items()))\n",
    "\n",
    "    return diccionarios_ordenado\n",
    "       \n",
    "\n",
    "contador_palabras(palabras)"
   ]
  },
  {
   "cell_type": "code",
   "execution_count": null,
   "id": "94010391-b726-418d-89be-6fc21c36f27e",
   "metadata": {},
   "outputs": [],
   "source": []
  },
  {
   "cell_type": "code",
   "execution_count": null,
   "id": "fdd46613-0a19-402f-b360-e6b81b9dfc98",
   "metadata": {},
   "outputs": [],
   "source": []
  },
  {
   "cell_type": "code",
   "execution_count": null,
   "id": "6d1a63e5-48e5-4e48-86ee-a343964d1d18",
   "metadata": {},
   "outputs": [],
   "source": []
  },
  {
   "cell_type": "code",
   "execution_count": null,
   "id": "3383fe01-82ee-4402-90fe-2c931d8cea0a",
   "metadata": {},
   "outputs": [],
   "source": []
  }
 ],
 "metadata": {
  "kernelspec": {
   "display_name": "Python [conda env:base] *",
   "language": "python",
   "name": "conda-base-py"
  },
  "language_info": {
   "codemirror_mode": {
    "name": "ipython",
    "version": 3
   },
   "file_extension": ".py",
   "mimetype": "text/x-python",
   "name": "python",
   "nbconvert_exporter": "python",
   "pygments_lexer": "ipython3",
   "version": "3.12.7"
  }
 },
 "nbformat": 4,
 "nbformat_minor": 5
}
